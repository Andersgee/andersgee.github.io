{
 "cells": [
  {
   "cell_type": "code",
   "execution_count": 37,
   "metadata": {
    "collapsed": false
   },
   "outputs": [
    {
     "data": {
      "text/plain": [
       "unittest! (generic function with 2 methods)"
      ]
     },
     "execution_count": 37,
     "metadata": {},
     "output_type": "execute_result"
    }
   ],
   "source": [
    "function gru(x, hi, Wz, Uz, bz, Wr, Ur, br, Wh, Uh, bh)\n",
    "    #Gated Recurrent Unit. see (Cho et al., 2014) https://arxiv.org/pdf/1406.1078v3 (eqs 5-8)\n",
    "    r = σ.(Wr*x .+ Ur*hi .+ br)\n",
    "    z = σ.(Wz*x .+ Uz*hi .+ bz)\n",
    "    h = tanh.(Wh*x .+ Uh*(r.*hi) .+ bh) \n",
    "    ho = z.*hi .+ (1.0 .- z).*h\n",
    "    return ho, ho\n",
    "end\n",
    "\n",
    "function gru2(x, hi, Wz, Uz, bz, Wr, Ur, br, Wh, Uh, bh)\n",
    "    #slightly different version\n",
    "    r = σ.(Wr*x .+ Ur*hi .+ br)\n",
    "    z = σ.(Wz*x .+ Uz*hi .+ bz)\n",
    "    h = tanh.(Wh*x .+ r.*(Uh*hi) .+ bh) #r outside parenthesis (Cho et al. use this in decoder net, and Flux implements it only like this)\n",
    "    ho = z.*hi .+ (1.0 .- z).*h\n",
    "    return ho, ho\n",
    "end\n",
    "leakyrelu(x, k) = max(k*x,x)\n",
    "function fprop!(unrollsteps, x, z, h1, h2, m)\n",
    "    z = leakyrelu.(m[\"W\"][1]*x .+ m[\"b\"][1], 0.1)\n",
    "    k=1;\n",
    "    z1, h1 = gru(z, h1, m[\"Wz\"][k], m[\"Uz\"][k], m[\"bz\"][k], m[\"Wr\"][k], m[\"Ur\"][k], m[\"br\"][k], m[\"Wh\"][k], m[\"Uh\"][k], m[\"bh\"][k])\n",
    "    k=2;\n",
    "    z2, h2 = gru2(z1, h2, m[\"Wz\"][k], m[\"Uz\"][k], m[\"bz\"][k], m[\"Wr\"][k], m[\"Ur\"][k], m[\"br\"][k], m[\"Wh\"][k], m[\"Uh\"][k], m[\"bh\"][k])\n",
    "    return h1,h2,z2\n",
    "end\n",
    "\n",
    "function unittest!(z, h1, h2, m)\n",
    "    z = leakyrelu.(m[\"W\"][1]*x .+ m[\"b\"][1], 0.1)\n",
    "    k=1;\n",
    "    z, h1 = gru(z, h1, m[\"Wz\"][k], m[\"Uz\"][k], m[\"bz\"][k], m[\"Wr\"][k], m[\"Ur\"][k], m[\"br\"][k], m[\"Wh\"][k], m[\"Uh\"][k], m[\"bh\"][k])\n",
    "    k=2;\n",
    "    z2, h2 = gru2(z1, h2, m[\"Wz\"][k], m[\"Uz\"][k], m[\"bz\"][k], m[\"Wr\"][k], m[\"Ur\"][k], m[\"br\"][k], m[\"Wh\"][k], m[\"Uh\"][k], m[\"bh\"][k])\n",
    "    return h1,h2,z2\n",
    "end"
   ]
  },
  {
   "cell_type": "code",
   "execution_count": 2,
   "metadata": {
    "collapsed": false,
    "scrolled": true
   },
   "outputs": [
    {
     "name": "stderr",
     "output_type": "stream",
     "text": [
      "┌ Info: Recompiling stale cache file /home/andy/.julia/compiled/v1.2/Flux/QdkVy.ji for Flux [587475ba-b771-5e3f-ad9e-33799f191a9c]\n",
      "└ @ Base loading.jl:1240\n"
     ]
    }
   ],
   "source": [
    "using JLD\n",
    "using Flux"
   ]
  },
  {
   "cell_type": "code",
   "execution_count": 24,
   "metadata": {
    "collapsed": false
   },
   "outputs": [
    {
     "data": {
      "text/plain": [
       "Dict{String,Any} with 13 entries:\n",
       "  \"W\"  => TrackedArray{…,Array{Float64,2}}[[0.0546233 -0.0632043 … 0.107978 -0.…\n",
       "  \"bz\" => TrackedArray{…,Array{Float64,2}}[[0.0734391; 0.0840966; … ; 0.109795;…\n",
       "  \"b\"  => TrackedArray{…,Array{Float64,2}}[[-0.112128; -0.119613; … ; -0.112681…\n",
       "  \"Ur\" => TrackedArray{…,Array{Float64,2}}[[0.0784526 0.00713365 … -0.110736 0.…\n",
       "  \"bh\" => TrackedArray{…,Array{Float64,2}}[[0.00425699; -0.00319029; … ; -0.007…\n",
       "  \"bm\" => TrackedArray{…,Array{Float64,1}}[[-0.000638918, -0.00051815, -0.00078…\n",
       "  \"Uh\" => TrackedArray{…,Array{Float64,2}}[[-0.0357423 -0.167883 … 0.130448 -0.…\n",
       "  \"Wh\" => TrackedArray{…,Array{Float64,2}}[[-0.0470703 0.114636 … -0.0292325 -0…\n",
       "  \"br\" => TrackedArray{…,Array{Float64,2}}[[-0.0252017; -0.00837589; … ; -0.002…\n",
       "  \"Wr\" => TrackedArray{…,Array{Float64,2}}[[0.256442 -0.052622 … -0.0993064 -0.…\n",
       "  \"Uz\" => TrackedArray{…,Array{Float64,2}}[[-0.113886 0.00753804 … -0.0551504 -…\n",
       "  \"Wz\" => TrackedArray{…,Array{Float64,2}}[[0.0207665 -0.0554552 … 0.0587824 0.…\n",
       "  \"Wm\" => TrackedArray{…,Array{Float64,2}}[[0.00524853 0.000154912 … 0.146186 -…"
      ]
     },
     "execution_count": 24,
     "metadata": {},
     "output_type": "execute_result"
    }
   ],
   "source": [
    "m=JLD.load(\"jld/alfa_model.jld\")"
   ]
  },
  {
   "cell_type": "code",
   "execution_count": 40,
   "metadata": {
    "collapsed": false
   },
   "outputs": [
    {
     "data": {
      "text/plain": [
       "96-element Array{Float64,1}:\n",
       " 0.0\n",
       " 0.0\n",
       " 0.0\n",
       " 0.0\n",
       " 0.0\n",
       " 0.0\n",
       " 0.0\n",
       " 0.0\n",
       " 0.0\n",
       " 0.0\n",
       " 0.0\n",
       " 0.0\n",
       " 0.0\n",
       " ⋮  \n",
       " 0.0\n",
       " 0.0\n",
       " 0.0\n",
       " 0.0\n",
       " 0.0\n",
       " 0.0\n",
       " 0.0\n",
       " 0.0\n",
       " 0.0\n",
       " 0.0\n",
       " 0.0\n",
       " 0.0"
      ]
     },
     "execution_count": 40,
     "metadata": {},
     "output_type": "execute_result"
    }
   ],
   "source": [
    "x=zeros(96); x[20]=0.6; x[23]=0.9; x[26]=0.5;\n",
    "h=zeros(96)\n",
    "h2=zeros(96)\n",
    "h1,h2,z2=unittest!(x, z, h, h2, m)\n",
    "#[h1,h2,z2]\n",
    "z"
   ]
  },
  {
   "cell_type": "code",
   "execution_count": 29,
   "metadata": {
    "collapsed": false
   },
   "outputs": [
    {
     "data": {
      "text/plain": [
       "Tracked 96×2 Array{Float64,2}:\n",
       "  0.00374789    0.00374789 \n",
       " -0.00352553   -0.00352553 \n",
       " -0.0188256    -0.0188256  \n",
       "  9.22741e-5    9.22741e-5 \n",
       " -0.00111004   -0.00111004 \n",
       "  0.00226578    0.00226578 \n",
       " -0.000755435  -0.000755435\n",
       " -0.00546599   -0.00546599 \n",
       "  0.00598067    0.00598067 \n",
       "  0.00414365    0.00414365 \n",
       " -0.00676407   -0.00676407 \n",
       " -0.00108923   -0.00108923 \n",
       "  0.000758376   0.000758376\n",
       "  ⋮                        \n",
       " -0.00243642   -0.00243642 \n",
       " -0.00155893   -0.00155893 \n",
       " -0.00298838   -0.00298838 \n",
       "  0.00127271    0.00127271 \n",
       "  0.00427782    0.00427782 \n",
       "  0.0148021     0.0148021  \n",
       "  0.00367698    0.00367698 \n",
       " -0.0109216    -0.0109216  \n",
       " -0.00332172   -0.00332172 \n",
       " -0.00830537   -0.00830537 \n",
       " -0.00115217   -0.00115217 \n",
       "  0.00852813    0.00852813 "
      ]
     },
     "execution_count": 29,
     "metadata": {},
     "output_type": "execute_result"
    }
   ],
   "source": [
    "x=zeros(96); x[20]=0.6; x[23]=0.9; x[26]=0.5;\n",
    "h=zeros(96)\n",
    "k=1\n",
    "z1,h1=gru(z, h1, m[\"Wz\"][k], m[\"Uz\"][k], m[\"bz\"][k], m[\"Wr\"][k], m[\"Ur\"][k], m[\"br\"][k], m[\"Wh\"][k], m[\"Uh\"][k], m[\"bh\"][k])\n",
    "[z1 h1]"
   ]
  },
  {
   "cell_type": "code",
   "execution_count": 41,
   "metadata": {
    "collapsed": false
   },
   "outputs": [],
   "source": [
    "x=zeros(96); x[20]=0.6; x[23]=0.9; x[26]=0.5;\n",
    "z=zeros(96)\n",
    "h=zeros(96)\n",
    "h2=zeros(96)\n",
    "h,h2,z2 = fprop!(1, x, z, h, h2, m);"
   ]
  },
  {
   "cell_type": "code",
   "execution_count": 45,
   "metadata": {
    "collapsed": false
   },
   "outputs": [
    {
     "data": {
      "text/plain": [
       "Tracked 96×3 Array{Float64,2}:\n",
       " -0.00192158  -0.00512388   -0.00512388 \n",
       " -1.91988e-5   0.00139002    0.00139002 \n",
       " -0.016334     0.00558293    0.00558293 \n",
       "  0.00187753   0.00544209    0.00544209 \n",
       " -0.00173325   0.00345562    0.00345562 \n",
       " -0.0101419   -0.00497051   -0.00497051 \n",
       "  0.00790452  -0.00352725   -0.00352725 \n",
       " -0.0132271   -0.00044853   -0.00044853 \n",
       "  0.00133607   0.00665581    0.00665581 \n",
       " -0.0133408   -0.000564446  -0.000564446\n",
       "  0.00179257  -0.00051284   -0.00051284 \n",
       "  2.41425e-5   0.00215362    0.00215362 \n",
       "  0.00299624   0.00681156    0.00681156 \n",
       "  ⋮                                     \n",
       "  0.00856623   0.00382561    0.00382561 \n",
       " -0.00889463   0.00367385    0.00367385 \n",
       "  0.0127942    0.00648962    0.00648962 \n",
       " -0.0117914    0.003172      0.003172   \n",
       " -0.00298209   0.00299003    0.00299003 \n",
       "  0.00936764   0.00372655    0.00372655 \n",
       " -0.00721465  -0.0052597    -0.0052597  \n",
       " -0.00591288  -0.0034039    -0.0034039  \n",
       " -3.87984e-5  -0.00181396   -0.00181396 \n",
       "  0.0154994    0.00492506    0.00492506 \n",
       "  0.00963587   0.000296912   0.000296912\n",
       "  0.0115709   -0.00567911   -0.00567911 "
      ]
     },
     "execution_count": 45,
     "metadata": {},
     "output_type": "execute_result"
    }
   ],
   "source": [
    "[h h2 z2]"
   ]
  },
  {
   "cell_type": "code",
   "execution_count": 51,
   "metadata": {
    "collapsed": false
   },
   "outputs": [
    {
     "data": {
      "text/plain": [
       "Tracked 96×3 Array{Float64,2}:\n",
       " -0.00685872   -0.0122037   -0.0122037 \n",
       " -0.000658715   0.00310059   0.00310059\n",
       " -0.0379993     0.0155332    0.0155332 \n",
       " -0.00121135    0.0181048    0.0181048 \n",
       " -0.00901523    0.0109206    0.0109206 \n",
       " -0.0103778    -0.0155373   -0.0155373 \n",
       "  0.018864     -0.013176    -0.013176  \n",
       " -0.0267258     0.00271376   0.00271376\n",
       "  0.00483265    0.0141704    0.0141704 \n",
       " -0.0243128    -0.00371253  -0.00371253\n",
       "  0.00319544    0.00401382   0.00401382\n",
       "  0.00405231    0.00286387   0.00286387\n",
       "  0.00385997    0.0175361    0.0175361 \n",
       "  ⋮                                    \n",
       "  0.011531      0.0158863    0.0158863 \n",
       " -0.0170517     0.0129301    0.0129301 \n",
       "  0.0148396     0.0140505    0.0140505 \n",
       " -0.0126797     0.00839079   0.00839079\n",
       " -0.0105173     0.00748901   0.00748901\n",
       "  0.0140793     0.0123462    0.0123462 \n",
       " -0.0119036    -0.0149875   -0.0149875 \n",
       " -0.0121686    -0.00912583  -0.00912583\n",
       "  0.00206884    0.00174235   0.00174235\n",
       "  0.018451      0.00324914   0.00324914\n",
       "  0.0209474    -0.00272859  -0.00272859\n",
       "  0.0259119    -0.02039     -0.02039   "
      ]
     },
     "execution_count": 51,
     "metadata": {},
     "output_type": "execute_result"
    }
   ],
   "source": [
    "h,h2,z2 = fprop!(1, x, z, h, h2, m);\n",
    "[h h2 z2]"
   ]
  },
  {
   "cell_type": "code",
   "execution_count": 49,
   "metadata": {
    "collapsed": false
   },
   "outputs": [
    {
     "data": {
      "text/plain": [
       "96-element Array{Float64,1}:\n",
       " 0.009515830163483154\n",
       " 0.009515830163483154\n",
       " 0.009515830163483154\n",
       " 0.009515830163483154\n",
       " 0.009515830163483154\n",
       " 0.009515830163483154\n",
       " 0.009515830163483154\n",
       " 0.009515830163483154\n",
       " 0.009515830163483154\n",
       " 0.009515830163483154\n",
       " 0.009515830163483154\n",
       " 0.009515830163483154\n",
       " 0.009515830163483154\n",
       " ⋮                   \n",
       " 0.009515830163483154\n",
       " 0.009515830163483154\n",
       " 0.009515830163483154\n",
       " 0.009515830163483154\n",
       " 0.009515830163483154\n",
       " 0.009515830163483154\n",
       " 0.009515830163483154\n",
       " 0.009515830163483154\n",
       " 0.009515830163483154\n",
       " 0.009515830163483154\n",
       " 0.009515830163483154\n",
       " 0.009515830163483154"
      ]
     },
     "execution_count": 49,
     "metadata": {},
     "output_type": "execute_result"
    }
   ],
   "source": [
    "softmax(x.*2)"
   ]
  }
 ],
 "metadata": {
  "kernelspec": {
   "display_name": "Julia 1.2.0",
   "language": "julia",
   "name": "julia-1.2"
  },
  "language_info": {
   "file_extension": ".jl",
   "mimetype": "application/julia",
   "name": "julia",
   "version": "1.2.0"
  }
 },
 "nbformat": 4,
 "nbformat_minor": 2
}
