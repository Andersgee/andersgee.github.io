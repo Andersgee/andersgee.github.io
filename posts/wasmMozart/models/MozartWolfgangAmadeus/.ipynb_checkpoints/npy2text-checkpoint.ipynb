{
 "cells": [
  {
   "cell_type": "code",
   "execution_count": 1,
   "metadata": {
    "collapsed": false
   },
   "outputs": [],
   "source": [
    "using JLD;\n",
    "using NPZ;"
   ]
  },
  {
   "cell_type": "code",
   "execution_count": 73,
   "metadata": {
    "collapsed": false
   },
   "outputs": [
    {
     "data": {
      "text/plain": [
       "21"
      ]
     },
     "execution_count": 73,
     "metadata": {},
     "output_type": "execute_result"
    }
   ],
   "source": [
    "function writetofile(v, filename)\n",
    "  open(filename, \"w\") do io\n",
    "    N=length(v)\n",
    "    for i=1:N-1\n",
    "      write(io, string(v[i]),\",\")\n",
    "    end\n",
    "    write(io, string(v[N])) #avoid last comma (not sure if needed)\n",
    "  end\n",
    "end\n",
    "\n",
    "\n",
    "filenames=[\"mz_311_1\",\"mz_311_2\",\"mz_311_3\",\"mz_330_1\",\"mz_330_2\",\"mz_330_3\",\"mz_331_1\",\"mz_331_2\",\"mz_331_3\",\"mz_332_1\",\"mz_332_2\",\"mz_332_3\",\"mz_333_1\",\"mz_333_2\",\"mz_333_3\",\"mz_545_1\",\"mz_545_2\",\"mz_545_3\",\"mz_570_1\",\"mz_570_2\",\"mz_570_3\"]\n",
    "\n"
   ]
  },
  {
   "cell_type": "code",
   "execution_count": 72,
   "metadata": {
    "collapsed": false
   },
   "outputs": [
    {
     "data": {
      "text/plain": [
       "2"
      ]
     },
     "execution_count": 72,
     "metadata": {},
     "output_type": "execute_result"
    }
   ],
   "source": [
    "\n",
    "for songnumber=1:length(filenames)\n",
    "data=NPZ.npzread(string(filenames[songnumber],\"_format0.npy\"));\n",
    "\n",
    "#in js: Uint16Array() max value 65,535\n",
    "#Uint8Array(); 255\n",
    "\n",
    "# construct (entire) manyhot from data\n",
    "L=96\n",
    "X=zeros(L,data[end,1])\n",
    "for n=1:size(data,1)\n",
    "    note1=data[n,2] - 12 #note 60 is middle C in midifiles, so make middle C at 96/2=48. (that is my middle C will be note 48 by subtracting 12)\n",
    "    place=data[n,1]\n",
    "    if 0<note1<=L\n",
    "        X[note1,place] = 1.0\n",
    "    end\n",
    "end\n",
    "\n",
    "\n",
    "\n",
    "uint8array=[]\n",
    "for i=1:size(X,2)\n",
    "    nrnotes=sum(X[:,i]) #how many notes at this timestep?\n",
    "    push!(uint8array, Int(nrnotes))\n",
    "    if (nrnotes>0)\n",
    "        #save each note index. with zero indexing\n",
    "        for j=1:96\n",
    "            if (X[j,i]>0)\n",
    "                push!(uint8array, j-1)\n",
    "            end\n",
    "        end\n",
    "    end\n",
    "end\n",
    "#uint8array\n",
    "\n",
    "writetofile(uint8array, filenames[songnumber])\n",
    "end"
   ]
  },
  {
   "cell_type": "code",
   "execution_count": 67,
   "metadata": {
    "collapsed": false
   },
   "outputs": [
    {
     "data": {
      "text/plain": [
       "writetofile (generic function with 1 method)"
      ]
     },
     "execution_count": 67,
     "metadata": {},
     "output_type": "execute_result"
    }
   ],
   "source": []
  },
  {
   "cell_type": "code",
   "execution_count": null,
   "metadata": {
    "collapsed": true
   },
   "outputs": [],
   "source": [
    "writetofile(v, filename)"
   ]
  },
  {
   "cell_type": "code",
   "execution_count": 65,
   "metadata": {
    "collapsed": false
   },
   "outputs": [
    {
     "name": "stdout",
     "output_type": "stream",
     "text": [
      "66\n"
     ]
    },
    {
     "data": {
      "text/plain": [
       "96-element Array{Float64,1}:\n",
       " 0.0\n",
       " 0.0\n",
       " 0.0\n",
       " 0.0\n",
       " 0.0\n",
       " 0.0\n",
       " 0.0\n",
       " 0.0\n",
       " 0.0\n",
       " 0.0\n",
       " 0.0\n",
       " 0.0\n",
       " 0.0\n",
       " ⋮  \n",
       " 0.0\n",
       " 0.0\n",
       " 0.0\n",
       " 0.0\n",
       " 0.0\n",
       " 0.0\n",
       " 0.0\n",
       " 0.0\n",
       " 0.0\n",
       " 0.0\n",
       " 0.0\n",
       " 0.0"
      ]
     },
     "execution_count": 65,
     "metadata": {},
     "output_type": "execute_result"
    }
   ],
   "source": [
    "#prime in JS like this\n",
    "i=1 #start at 0 in js, the other code is same\n",
    "for timestep=1:100\n",
    "    x=zeros(96)\n",
    "    nrnotes=uint8array[i]\n",
    "    if (nrnotes>0)\n",
    "        for j=1:nrnotes\n",
    "            println(uint8array[i+j])\n",
    "            x[uint8array[i+j]]=1;\n",
    "        end\n",
    "    end\n",
    "    i+=nrnotes+1;\n",
    "    \n",
    "    #fprop(x)\n",
    "end"
   ]
  }
 ],
 "metadata": {
  "kernelspec": {
   "display_name": "Julia 1.2.0",
   "language": "julia",
   "name": "julia-1.2"
  },
  "language_info": {
   "file_extension": ".jl",
   "mimetype": "application/julia",
   "name": "julia",
   "version": "1.2.0"
  }
 },
 "nbformat": 4,
 "nbformat_minor": 2
}
